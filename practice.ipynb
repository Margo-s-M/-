{
  "nbformat": 4,
  "nbformat_minor": 0,
  "metadata": {
    "colab": {
      "provenance": [],
      "authorship_tag": "ABX9TyOg0MbtmrF/DDvTZyEmlxYy",
      "include_colab_link": true
    },
    "kernelspec": {
      "name": "python3",
      "display_name": "Python 3"
    },
    "language_info": {
      "name": "python"
    }
  },
  "cells": [
    {
      "cell_type": "markdown",
      "metadata": {
        "id": "view-in-github",
        "colab_type": "text"
      },
      "source": [
        "<a href=\"https://colab.research.google.com/github/Margo-s-M/-/blob/master/practice.ipynb\" target=\"_parent\"><img src=\"https://colab.research.google.com/assets/colab-badge.svg\" alt=\"Open In Colab\"/></a>"
      ]
    },
    {
      "cell_type": "code",
      "execution_count": 1,
      "metadata": {
        "colab": {
          "base_uri": "https://localhost:8080/"
        },
        "id": "k3TGThc7XI7h",
        "outputId": "34a8e01a-4e85-4f70-996b-cca9650eeec0"
      },
      "outputs": [
        {
          "output_type": "stream",
          "name": "stdout",
          "text": [
            "Hello wirld \n"
          ]
        }
      ],
      "source": [
        "text = \"Hello wirld \"\n",
        "print(text)"
      ]
    },
    {
      "cell_type": "markdown",
      "source": [
        "Преше заняття з ШІ"
      ],
      "metadata": {
        "id": "CJlzAAAiXzHM"
      }
    },
    {
      "cell_type": "code",
      "source": [],
      "metadata": {
        "id": "ayH76zvBXkzO"
      },
      "execution_count": null,
      "outputs": []
    }
  ]
}